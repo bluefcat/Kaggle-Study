{
 "cells": [
  {
   "cell_type": "code",
   "execution_count": 1,
   "id": "291393ec",
   "metadata": {},
   "outputs": [],
   "source": [
    "import numpy as np"
   ]
  },
  {
   "cell_type": "code",
   "execution_count": 2,
   "id": "60efbf4f",
   "metadata": {},
   "outputs": [
    {
     "name": "stdout",
     "output_type": "stream",
     "text": [
      "init hidden state: [0. 0. 0. 0. 0. 0. 0. 0.]\n"
     ]
    }
   ],
   "source": [
    "timesteps = 10 # word's count = string length\n",
    "input_dim = 4  # word dimension with word embedding\n",
    "hidden_units = 8 # = result dimension\n",
    "\n",
    "inputs = np.random.random((timesteps, input_dim))\n",
    "hidden_state_t = np.zeros((hidden_units, ))\n",
    "\n",
    "print(f\"init hidden state: {hidden_state_t}\")"
   ]
  },
  {
   "cell_type": "code",
   "execution_count": 8,
   "id": "67b9418c",
   "metadata": {},
   "outputs": [
    {
     "name": "stdout",
     "output_type": "stream",
     "text": [
      "Weight Wx shape: (8, 4)\n",
      "Weight Wh shape: (8, 8)\n",
      "bias shape: (8,)\n"
     ]
    }
   ],
   "source": [
    "Wx = np.random.random((hidden_units, input_dim))\n",
    "Wh = np.random.random((hidden_units, hidden_units))\n",
    "\n",
    "b = np.random.random((hidden_units, )) # bias\n",
    "\n",
    "print(f'Weight Wx shape: {np.shape(Wx)}')\n",
    "print(f'Weight Wh shape: {np.shape(Wh)}')\n",
    "print(f'bias shape: {np.shape(b)}')"
   ]
  },
  {
   "cell_type": "code",
   "execution_count": 9,
   "id": "da754a24",
   "metadata": {},
   "outputs": [
    {
     "name": "stdout",
     "output_type": "stream",
     "text": [
      "all time hidden state: [[0.99959405 0.99906778 0.99990154 0.99995469 0.99979907 0.99996555\n",
      "  0.99983947 0.99978431]\n",
      " [0.99997348 0.99977442 0.99998313 0.9999857  0.99995813 0.99998979\n",
      "  0.99998394 0.9999529 ]\n",
      " [0.99988719 0.99946325 0.99995504 0.99997016 0.99991342 0.99996847\n",
      "  0.99995005 0.99993452]\n",
      " [0.99994863 0.99971016 0.99997929 0.99998624 0.99995321 0.99998656\n",
      "  0.99997345 0.99993001]\n",
      " [0.99976052 0.9993062  0.99993521 0.99996588 0.99986466 0.99996744\n",
      "  0.99989023 0.99983742]\n",
      " [0.99990754 0.9993544  0.99991996 0.99991944 0.99980992 0.99996296\n",
      "  0.99994024 0.99993847]\n",
      " [0.9998465  0.99931051 0.99990357 0.99993975 0.999756   0.99998809\n",
      "  0.99993719 0.99987681]\n",
      " [0.99986371 0.99913512 0.99987199 0.99991824 0.9997505  0.99998905\n",
      "  0.99996912 0.99996007]\n",
      " [0.99991628 0.99949949 0.99994919 0.99996195 0.99988728 0.99998086\n",
      "  0.99996089 0.99993737]\n",
      " [0.99994986 0.99967703 0.99996928 0.99998073 0.99992522 0.99999431\n",
      "  0.999981   0.99993633]]\n"
     ]
    }
   ],
   "source": [
    "total_hidden_states = []\n",
    "\n",
    "#for word in string\n",
    "for input_t in inputs:\n",
    "    # Wx * Xt + Wh * Ht-1 + b\n",
    "    output_t = np.tanh((Wx @ input_t) + (Wh @ hidden_state_t) + b) # @ is np.dot or np.matmul\n",
    "    \n",
    "    total_hidden_states += [output_t]\n",
    "    hidden_state_t = output_t\n",
    "    \n",
    "total_hidden_states = np.stack(total_hidden_states, axis = 0)\n",
    "\n",
    "print(f\"all time hidden state: {total_hidden_states}\")"
   ]
  },
  {
   "cell_type": "markdown",
   "id": "624603d9",
   "metadata": {},
   "source": [
    "## RNN with Keras"
   ]
  },
  {
   "cell_type": "code",
   "execution_count": 13,
   "id": "c146316e",
   "metadata": {},
   "outputs": [],
   "source": [
    "from tensorflow.keras.layers import SimpleRNN\n",
    "from tensorflow.keras.models import Sequential"
   ]
  },
  {
   "cell_type": "code",
   "execution_count": 18,
   "id": "5aee390f",
   "metadata": {},
   "outputs": [
    {
     "name": "stdout",
     "output_type": "stream",
     "text": [
      "Model: \"sequential_4\"\n",
      "_________________________________________________________________\n",
      " Layer (type)                Output Shape              Param #   \n",
      "=================================================================\n",
      " simple_rnn_3 (SimpleRNN)    (None, 3)                 42        \n",
      "                                                                 \n",
      "=================================================================\n",
      "Total params: 42\n",
      "Trainable params: 42\n",
      "Non-trainable params: 0\n",
      "_________________________________________________________________\n"
     ]
    }
   ],
   "source": [
    "batch_size = 8\n",
    "\n",
    "timesteps = 2 # word's count = string length\n",
    "input_dim = 10  # word dimension with word embedding\n",
    "hidden_units = 3 # = result dimension\n",
    "\n",
    "model = Sequential()\n",
    "model.add(SimpleRNN(hidden_units, input_shape=(timesteps, input_dim))) # this is samething \"SimpleRNN(3, input_length=2, input_dim=10)\"\n",
    "\n",
    "#Batch size is None\n",
    "model.summary()"
   ]
  },
  {
   "cell_type": "code",
   "execution_count": 20,
   "id": "c966d502",
   "metadata": {
    "scrolled": true
   },
   "outputs": [
    {
     "name": "stdout",
     "output_type": "stream",
     "text": [
      "Model: \"sequential_6\"\n",
      "_________________________________________________________________\n",
      " Layer (type)                Output Shape              Param #   \n",
      "=================================================================\n",
      " simple_rnn_5 (SimpleRNN)    (8, 3)                    42        \n",
      "                                                                 \n",
      "=================================================================\n",
      "Total params: 42\n",
      "Trainable params: 42\n",
      "Non-trainable params: 0\n",
      "_________________________________________________________________\n"
     ]
    }
   ],
   "source": [
    "model = Sequential()\n",
    "model.add(SimpleRNN(hidden_units, batch_input_shape=(batch_size, timesteps, input_dim)))\n",
    "\n",
    "model.summary()"
   ]
  },
  {
   "cell_type": "code",
   "execution_count": 21,
   "id": "8c58fc54",
   "metadata": {},
   "outputs": [
    {
     "name": "stdout",
     "output_type": "stream",
     "text": [
      "Model: \"sequential_7\"\n",
      "_________________________________________________________________\n",
      " Layer (type)                Output Shape              Param #   \n",
      "=================================================================\n",
      " simple_rnn_6 (SimpleRNN)    (8, 2, 3)                 42        \n",
      "                                                                 \n",
      "=================================================================\n",
      "Total params: 42\n",
      "Trainable params: 42\n",
      "Non-trainable params: 0\n",
      "_________________________________________________________________\n"
     ]
    }
   ],
   "source": [
    "model = Sequential()\n",
    "model.add(SimpleRNN(3, batch_input_shape=(batch_size, timesteps, input_dim), return_sequences=True))\n",
    "model.summary()"
   ]
  },
  {
   "cell_type": "code",
   "execution_count": null,
   "id": "8b779fa3",
   "metadata": {},
   "outputs": [],
   "source": []
  }
 ],
 "metadata": {
  "kernelspec": {
   "display_name": "Python 3 (ipykernel)",
   "language": "python",
   "name": "python3"
  },
  "language_info": {
   "codemirror_mode": {
    "name": "ipython",
    "version": 3
   },
   "file_extension": ".py",
   "mimetype": "text/x-python",
   "name": "python",
   "nbconvert_exporter": "python",
   "pygments_lexer": "ipython3",
   "version": "3.9.7"
  }
 },
 "nbformat": 4,
 "nbformat_minor": 5
}
