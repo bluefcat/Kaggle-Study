{
 "cells": [
  {
   "cell_type": "markdown",
   "id": "c69a01bc",
   "metadata": {},
   "source": [
    "# ConnectX Getting Started\n",
    "\n",
    "- reference: [https://www.kaggle.com/ajeffries/connectx-getting-started]"
   ]
  },
  {
   "cell_type": "code",
   "execution_count": null,
   "id": "941f551f",
   "metadata": {},
   "outputs": [],
   "source": [
    "# Connect X environment was defined in v0.1.6\n",
    "!pip install 'kaggle-environments>=0.1.6'"
   ]
  }
 ],
 "metadata": {
  "kernelspec": {
   "display_name": "Python 3 (ipykernel)",
   "language": "python",
   "name": "python3"
  },
  "language_info": {
   "codemirror_mode": {
    "name": "ipython",
    "version": 3
   },
   "file_extension": ".py",
   "mimetype": "text/x-python",
   "name": "python",
   "nbconvert_exporter": "python",
   "pygments_lexer": "ipython3",
   "version": "3.9.7"
  }
 },
 "nbformat": 4,
 "nbformat_minor": 5
}
